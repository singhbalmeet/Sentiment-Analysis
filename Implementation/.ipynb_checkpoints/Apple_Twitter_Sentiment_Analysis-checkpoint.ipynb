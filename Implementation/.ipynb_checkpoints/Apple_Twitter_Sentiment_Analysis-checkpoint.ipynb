{
 "cells": [
  {
   "cell_type": "code",
   "execution_count": 34,
   "metadata": {},
   "outputs": [],
   "source": [
    "import numpy as np\n",
    "import pandas as pd\n",
    "from sklearn.linear_model import LinearRegression\n",
    "from sklearn.linear_model import BayesianRidge\n",
    "from sklearn.model_selection import train_test_split\n",
    "from sklearn import preprocessing\n",
    "import matplotlib.pyplot as plt\n",
    "import xgboost as xgb\n",
    "from scipy import stats\n",
    "import category_encoders as cat\n",
    "from sklearn.preprocessing import OneHotEncoder"
   ]
  },
  {
   "cell_type": "markdown",
   "metadata": {},
   "source": [
    "### Providing New Column Headers"
   ]
  },
  {
   "cell_type": "code",
   "execution_count": 35,
   "metadata": {},
   "outputs": [],
   "source": [
    "cols = ['unit_id', 'golden', 'state', 'trusted_judgements', 'latest_judgement', 'sentiment', 'confidence',\n",
    "        'date', 'id', 'query', 'sentiment_gold', 'text']"
   ]
  },
  {
   "cell_type": "code",
   "execution_count": 36,
   "metadata": {},
   "outputs": [
    {
     "data": {
      "text/plain": [
       "'_unit_id,_golden,_unit_state,_trusted_judgments,_last_judgment_at,sentiment,sentiment:confidence,date,id,query,sentiment_gold,text\\n623495513,TRUE,golden,10,,3,0.6264,Mon Dec 01 19:30:03 +0000 2014,5.40E+17,#AAPL OR @Apple,\"3\\nnot_relevant\",#AAPL:The 10 best Steve Jobs emails ever...http://t.co/82G1kL94tx\\n623495514,TRUE,golden,12,,3,0.8129,Mon Dec 01 19:43:51 +0000 2014,5.40E+17,#AAPL OR @Apple,\"3\\n1\",\"RT @JPDesloges: Why AAPL Stock Had a Mini-Flash Crash Today $AAPL #aapl\\nhttp://t.co/hGFcjYa0E9\"\\n6'"
      ]
     },
     "execution_count": 36,
     "metadata": {},
     "output_type": "execute_result"
    }
   ],
   "source": [
    "rawData = open(\"Datasets/train_apple.csv\", encoding = 'latin-1').read()\n",
    "rawData[0:500]"
   ]
  },
  {
   "cell_type": "markdown",
   "metadata": {},
   "source": [
    "### Reading the file"
   ]
  },
  {
   "cell_type": "code",
   "execution_count": 37,
   "metadata": {},
   "outputs": [],
   "source": [
    "pd.set_option('display.max_colwidth', 100)\n",
    "\n",
    "trainCol = pd.read_csv('Datasets/train_apple.csv',names = cols, encoding='latin-1', header = None)\n",
    "testCol = pd.read_csv('Datasets/test_apple.csv', names = cols, encoding='latin-1')"
   ]
  },
  {
   "cell_type": "code",
   "execution_count": 38,
   "metadata": {},
   "outputs": [],
   "source": [
    "x_mod = trainCol"
   ]
  },
  {
   "cell_type": "code",
   "execution_count": 39,
   "metadata": {},
   "outputs": [
    {
     "data": {
      "text/html": [
       "<div>\n",
       "<style scoped>\n",
       "    .dataframe tbody tr th:only-of-type {\n",
       "        vertical-align: middle;\n",
       "    }\n",
       "\n",
       "    .dataframe tbody tr th {\n",
       "        vertical-align: top;\n",
       "    }\n",
       "\n",
       "    .dataframe thead th {\n",
       "        text-align: right;\n",
       "    }\n",
       "</style>\n",
       "<table border=\"1\" class=\"dataframe\">\n",
       "  <thead>\n",
       "    <tr style=\"text-align: right;\">\n",
       "      <th></th>\n",
       "      <th>unit_id</th>\n",
       "      <th>golden</th>\n",
       "      <th>state</th>\n",
       "      <th>trusted_judgements</th>\n",
       "      <th>latest_judgement</th>\n",
       "      <th>sentiment</th>\n",
       "      <th>confidence</th>\n",
       "      <th>date</th>\n",
       "      <th>id</th>\n",
       "      <th>query</th>\n",
       "      <th>sentiment_gold</th>\n",
       "      <th>text</th>\n",
       "    </tr>\n",
       "  </thead>\n",
       "  <tbody>\n",
       "    <tr>\n",
       "      <th>0</th>\n",
       "      <td>_unit_id</td>\n",
       "      <td>_golden</td>\n",
       "      <td>_unit_state</td>\n",
       "      <td>_trusted_judgments</td>\n",
       "      <td>_last_judgment_at</td>\n",
       "      <td>sentiment</td>\n",
       "      <td>sentiment:confidence</td>\n",
       "      <td>date</td>\n",
       "      <td>id</td>\n",
       "      <td>query</td>\n",
       "      <td>sentiment_gold</td>\n",
       "      <td>text</td>\n",
       "    </tr>\n",
       "    <tr>\n",
       "      <th>1</th>\n",
       "      <td>623495513</td>\n",
       "      <td>TRUE</td>\n",
       "      <td>golden</td>\n",
       "      <td>10</td>\n",
       "      <td>NaN</td>\n",
       "      <td>3</td>\n",
       "      <td>0.6264</td>\n",
       "      <td>Mon Dec 01 19:30:03 +0000 2014</td>\n",
       "      <td>5.40E+17</td>\n",
       "      <td>#AAPL OR @Apple</td>\n",
       "      <td>3\\nnot_relevant</td>\n",
       "      <td>#AAPL:The 10 best Steve Jobs emails ever...http://t.co/82G1kL94tx</td>\n",
       "    </tr>\n",
       "    <tr>\n",
       "      <th>2</th>\n",
       "      <td>623495514</td>\n",
       "      <td>TRUE</td>\n",
       "      <td>golden</td>\n",
       "      <td>12</td>\n",
       "      <td>NaN</td>\n",
       "      <td>3</td>\n",
       "      <td>0.8129</td>\n",
       "      <td>Mon Dec 01 19:43:51 +0000 2014</td>\n",
       "      <td>5.40E+17</td>\n",
       "      <td>#AAPL OR @Apple</td>\n",
       "      <td>3\\n1</td>\n",
       "      <td>RT @JPDesloges: Why AAPL Stock Had a Mini-Flash Crash Today $AAPL #aapl\\nhttp://t.co/hGFcjYa0E9</td>\n",
       "    </tr>\n",
       "  </tbody>\n",
       "</table>\n",
       "</div>"
      ],
      "text/plain": [
       "     unit_id   golden        state  trusted_judgements   latest_judgement  \\\n",
       "0   _unit_id  _golden  _unit_state  _trusted_judgments  _last_judgment_at   \n",
       "1  623495513     TRUE       golden                  10                NaN   \n",
       "2  623495514     TRUE       golden                  12                NaN   \n",
       "\n",
       "   sentiment            confidence                            date        id  \\\n",
       "0  sentiment  sentiment:confidence                            date        id   \n",
       "1          3                0.6264  Mon Dec 01 19:30:03 +0000 2014  5.40E+17   \n",
       "2          3                0.8129  Mon Dec 01 19:43:51 +0000 2014  5.40E+17   \n",
       "\n",
       "             query   sentiment_gold  \\\n",
       "0            query   sentiment_gold   \n",
       "1  #AAPL OR @Apple  3\\nnot_relevant   \n",
       "2  #AAPL OR @Apple             3\\n1   \n",
       "\n",
       "                                                                                              text  \n",
       "0                                                                                             text  \n",
       "1                                #AAPL:The 10 best Steve Jobs emails ever...http://t.co/82G1kL94tx  \n",
       "2  RT @JPDesloges: Why AAPL Stock Had a Mini-Flash Crash Today $AAPL #aapl\\nhttp://t.co/hGFcjYa0E9  "
      ]
     },
     "execution_count": 39,
     "metadata": {},
     "output_type": "execute_result"
    }
   ],
   "source": [
    "x_mod[0:3]"
   ]
  },
  {
   "cell_type": "markdown",
   "metadata": {},
   "source": [
    "### Dropping columns which are not required"
   ]
  },
  {
   "cell_type": "code",
   "execution_count": 40,
   "metadata": {},
   "outputs": [],
   "source": [
    "x_mod = x_mod.drop(['unit_id', 'golden', 'state', 'trusted_judgements', 'latest_judgement', 'confidence',\n",
    "      'date', 'id', 'sentiment_gold', 'query','sentiment'], axis = 1)"
   ]
  },
  {
   "cell_type": "code",
   "execution_count": 41,
   "metadata": {},
   "outputs": [
    {
     "data": {
      "text/plain": [
       "(3199, 1)"
      ]
     },
     "execution_count": 41,
     "metadata": {},
     "output_type": "execute_result"
    }
   ],
   "source": [
    "x_mod.shape"
   ]
  },
  {
   "cell_type": "code",
   "execution_count": 42,
   "metadata": {},
   "outputs": [
    {
     "data": {
      "text/html": [
       "<div>\n",
       "<style scoped>\n",
       "    .dataframe tbody tr th:only-of-type {\n",
       "        vertical-align: middle;\n",
       "    }\n",
       "\n",
       "    .dataframe tbody tr th {\n",
       "        vertical-align: top;\n",
       "    }\n",
       "\n",
       "    .dataframe thead th {\n",
       "        text-align: right;\n",
       "    }\n",
       "</style>\n",
       "<table border=\"1\" class=\"dataframe\">\n",
       "  <thead>\n",
       "    <tr style=\"text-align: right;\">\n",
       "      <th></th>\n",
       "      <th>text</th>\n",
       "    </tr>\n",
       "  </thead>\n",
       "  <tbody>\n",
       "    <tr>\n",
       "      <th>1</th>\n",
       "      <td>#AAPL:The 10 best Steve Jobs emails ever...http://t.co/82G1kL94tx</td>\n",
       "    </tr>\n",
       "    <tr>\n",
       "      <th>2</th>\n",
       "      <td>RT @JPDesloges: Why AAPL Stock Had a Mini-Flash Crash Today $AAPL #aapl\\nhttp://t.co/hGFcjYa0E9</td>\n",
       "    </tr>\n",
       "    <tr>\n",
       "      <th>3</th>\n",
       "      <td>My cat only chews @apple cords. Such an #AppleSnob.</td>\n",
       "    </tr>\n",
       "    <tr>\n",
       "      <th>4</th>\n",
       "      <td>I agree with @jimcramer that the #IndividualInvestor should own not trade #Apple #AAPL, it's ext...</td>\n",
       "    </tr>\n",
       "    <tr>\n",
       "      <th>5</th>\n",
       "      <td>Nobody expects the Spanish Inquisition #AAPL</td>\n",
       "    </tr>\n",
       "    <tr>\n",
       "      <th>...</th>\n",
       "      <td>...</td>\n",
       "    </tr>\n",
       "    <tr>\n",
       "      <th>3194</th>\n",
       "      <td>The 10 biggest differences between #Mac and #PC.  Yep, I'll stick with my Mac! #apple http://t.c...</td>\n",
       "    </tr>\n",
       "    <tr>\n",
       "      <th>3195</th>\n",
       "      <td>New Hearthstone Expansion 'Goblins vs Gnomes' Officially Launches [iOS Blog] http://t.co/LGJGwH1...</td>\n",
       "    </tr>\n",
       "    <tr>\n",
       "      <th>3196</th>\n",
       "      <td>Happy Monday! My camera on my fancy @Apple #iPhone6Plus suddenly stopped working this weekend, s...</td>\n",
       "    </tr>\n",
       "    <tr>\n",
       "      <th>3197</th>\n",
       "      <td>Apple Inc. and Facebook Clash; Neither Is Wrong http://t.co/ELe0YAQdQO #AAPL</td>\n",
       "    </tr>\n",
       "    <tr>\n",
       "      <th>3198</th>\n",
       "      <td>You'll be back in my life soon @apple</td>\n",
       "    </tr>\n",
       "  </tbody>\n",
       "</table>\n",
       "<p>3198 rows × 1 columns</p>\n",
       "</div>"
      ],
      "text/plain": [
       "                                                                                                     text\n",
       "1                                       #AAPL:The 10 best Steve Jobs emails ever...http://t.co/82G1kL94tx\n",
       "2         RT @JPDesloges: Why AAPL Stock Had a Mini-Flash Crash Today $AAPL #aapl\\nhttp://t.co/hGFcjYa0E9\n",
       "3                                                     My cat only chews @apple cords. Such an #AppleSnob.\n",
       "4     I agree with @jimcramer that the #IndividualInvestor should own not trade #Apple #AAPL, it's ext...\n",
       "5                                                            Nobody expects the Spanish Inquisition #AAPL\n",
       "...                                                                                                   ...\n",
       "3194  The 10 biggest differences between #Mac and #PC.  Yep, I'll stick with my Mac! #apple http://t.c...\n",
       "3195  New Hearthstone Expansion 'Goblins vs Gnomes' Officially Launches [iOS Blog] http://t.co/LGJGwH1...\n",
       "3196  Happy Monday! My camera on my fancy @Apple #iPhone6Plus suddenly stopped working this weekend, s...\n",
       "3197                         Apple Inc. and Facebook Clash; Neither Is Wrong http://t.co/ELe0YAQdQO #AAPL\n",
       "3198                                                                You'll be back in my life soon @apple\n",
       "\n",
       "[3198 rows x 1 columns]"
      ]
     },
     "execution_count": 42,
     "metadata": {},
     "output_type": "execute_result"
    }
   ],
   "source": [
    "x_mod.drop([0])"
   ]
  },
  {
   "cell_type": "code",
   "execution_count": 47,
   "metadata": {},
   "outputs": [
    {
     "data": {
      "text/plain": [
       "text    My cat only chews @apple cords. Such an #AppleSnob.\n",
       "Name: 3, dtype: object"
      ]
     },
     "execution_count": 47,
     "metadata": {},
     "output_type": "execute_result"
    }
   ],
   "source": [
    "x_mod.iloc[3]"
   ]
  },
  {
   "cell_type": "code",
   "execution_count": 48,
   "metadata": {
    "scrolled": true
   },
   "outputs": [],
   "source": [
    "import re\n",
    "\n",
    "findings01 = re.findall('\\S+',str(x_mod.iloc[3]))"
   ]
  },
  {
   "cell_type": "code",
   "execution_count": 49,
   "metadata": {},
   "outputs": [
    {
     "data": {
      "text/plain": [
       "['text',\n",
       " 'My',\n",
       " 'cat',\n",
       " 'only',\n",
       " 'chews',\n",
       " '@apple',\n",
       " 'cords.',\n",
       " 'Such',\n",
       " 'an',\n",
       " '#AppleSnob.',\n",
       " 'Name:',\n",
       " '3,',\n",
       " 'dtype:',\n",
       " 'object']"
      ]
     },
     "execution_count": 49,
     "metadata": {},
     "output_type": "execute_result"
    }
   ],
   "source": [
    "findings01"
   ]
  },
  {
   "cell_type": "markdown",
   "metadata": {},
   "source": [
    "### Remove Punctuation"
   ]
  },
  {
   "cell_type": "code",
   "execution_count": 50,
   "metadata": {},
   "outputs": [
    {
     "data": {
      "text/plain": [
       "'!\"#$%&\\'()*+,-./:;<=>?@[\\\\]^_`{|}~'"
      ]
     },
     "execution_count": 50,
     "metadata": {},
     "output_type": "execute_result"
    }
   ],
   "source": [
    "import string\n",
    "string.punctuation"
   ]
  },
  {
   "cell_type": "code",
   "execution_count": 51,
   "metadata": {},
   "outputs": [
    {
     "data": {
      "text/html": [
       "<div>\n",
       "<style scoped>\n",
       "    .dataframe tbody tr th:only-of-type {\n",
       "        vertical-align: middle;\n",
       "    }\n",
       "\n",
       "    .dataframe tbody tr th {\n",
       "        vertical-align: top;\n",
       "    }\n",
       "\n",
       "    .dataframe thead th {\n",
       "        text-align: right;\n",
       "    }\n",
       "</style>\n",
       "<table border=\"1\" class=\"dataframe\">\n",
       "  <thead>\n",
       "    <tr style=\"text-align: right;\">\n",
       "      <th></th>\n",
       "      <th>text</th>\n",
       "      <th>text_clean</th>\n",
       "    </tr>\n",
       "  </thead>\n",
       "  <tbody>\n",
       "    <tr>\n",
       "      <th>0</th>\n",
       "      <td>text</td>\n",
       "      <td>text</td>\n",
       "    </tr>\n",
       "    <tr>\n",
       "      <th>1</th>\n",
       "      <td>#AAPL:The 10 best Steve Jobs emails ever...http://t.co/82G1kL94tx</td>\n",
       "      <td>AAPLThe 10 best Steve Jobs emails everhttptco82G1kL94tx</td>\n",
       "    </tr>\n",
       "    <tr>\n",
       "      <th>2</th>\n",
       "      <td>RT @JPDesloges: Why AAPL Stock Had a Mini-Flash Crash Today $AAPL #aapl\\nhttp://t.co/hGFcjYa0E9</td>\n",
       "      <td>RT JPDesloges Why AAPL Stock Had a MiniFlash Crash Today AAPL aapl\\nhttptcohGFcjYa0E9</td>\n",
       "    </tr>\n",
       "    <tr>\n",
       "      <th>3</th>\n",
       "      <td>My cat only chews @apple cords. Such an #AppleSnob.</td>\n",
       "      <td>My cat only chews apple cords Such an AppleSnob</td>\n",
       "    </tr>\n",
       "    <tr>\n",
       "      <th>4</th>\n",
       "      <td>I agree with @jimcramer that the #IndividualInvestor should own not trade #Apple #AAPL, it's ext...</td>\n",
       "      <td>I agree with jimcramer that the IndividualInvestor should own not trade Apple AAPL its extended ...</td>\n",
       "    </tr>\n",
       "  </tbody>\n",
       "</table>\n",
       "</div>"
      ],
      "text/plain": [
       "                                                                                                  text  \\\n",
       "0                                                                                                 text   \n",
       "1                                    #AAPL:The 10 best Steve Jobs emails ever...http://t.co/82G1kL94tx   \n",
       "2      RT @JPDesloges: Why AAPL Stock Had a Mini-Flash Crash Today $AAPL #aapl\\nhttp://t.co/hGFcjYa0E9   \n",
       "3                                                  My cat only chews @apple cords. Such an #AppleSnob.   \n",
       "4  I agree with @jimcramer that the #IndividualInvestor should own not trade #Apple #AAPL, it's ext...   \n",
       "\n",
       "                                                                                            text_clean  \n",
       "0                                                                                                 text  \n",
       "1                                              AAPLThe 10 best Steve Jobs emails everhttptco82G1kL94tx  \n",
       "2                RT JPDesloges Why AAPL Stock Had a MiniFlash Crash Today AAPL aapl\\nhttptcohGFcjYa0E9  \n",
       "3                                                      My cat only chews apple cords Such an AppleSnob  \n",
       "4  I agree with jimcramer that the IndividualInvestor should own not trade Apple AAPL its extended ...  "
      ]
     },
     "execution_count": 51,
     "metadata": {},
     "output_type": "execute_result"
    }
   ],
   "source": [
    "def remove_punct(text):\n",
    "    text_nopunct = \"\".join([char for char in text if char not in string.punctuation])\n",
    "    return text_nopunct\n",
    "\n",
    "x_mod['text_clean'] = x_mod['text'].apply(lambda x: remove_punct(x))\n",
    "\n",
    "x_mod.head()"
   ]
  },
  {
   "cell_type": "markdown",
   "metadata": {},
   "source": [
    "### Tokenization "
   ]
  },
  {
   "cell_type": "code",
   "execution_count": 52,
   "metadata": {},
   "outputs": [
    {
     "data": {
      "text/html": [
       "<div>\n",
       "<style scoped>\n",
       "    .dataframe tbody tr th:only-of-type {\n",
       "        vertical-align: middle;\n",
       "    }\n",
       "\n",
       "    .dataframe tbody tr th {\n",
       "        vertical-align: top;\n",
       "    }\n",
       "\n",
       "    .dataframe thead th {\n",
       "        text-align: right;\n",
       "    }\n",
       "</style>\n",
       "<table border=\"1\" class=\"dataframe\">\n",
       "  <thead>\n",
       "    <tr style=\"text-align: right;\">\n",
       "      <th></th>\n",
       "      <th>text</th>\n",
       "      <th>text_clean</th>\n",
       "      <th>text_tokenized</th>\n",
       "    </tr>\n",
       "  </thead>\n",
       "  <tbody>\n",
       "    <tr>\n",
       "      <th>0</th>\n",
       "      <td>text</td>\n",
       "      <td>text</td>\n",
       "      <td>[text]</td>\n",
       "    </tr>\n",
       "    <tr>\n",
       "      <th>1</th>\n",
       "      <td>#AAPL:The 10 best Steve Jobs emails ever...http://t.co/82G1kL94tx</td>\n",
       "      <td>AAPLThe 10 best Steve Jobs emails everhttptco82G1kL94tx</td>\n",
       "      <td>[aaplthe, 10, best, steve, jobs, emails, everhttptco82g1kl94tx]</td>\n",
       "    </tr>\n",
       "    <tr>\n",
       "      <th>2</th>\n",
       "      <td>RT @JPDesloges: Why AAPL Stock Had a Mini-Flash Crash Today $AAPL #aapl\\nhttp://t.co/hGFcjYa0E9</td>\n",
       "      <td>RT JPDesloges Why AAPL Stock Had a MiniFlash Crash Today AAPL aapl\\nhttptcohGFcjYa0E9</td>\n",
       "      <td>[rt, jpdesloges, why, aapl, stock, had, a, miniflash, crash, today, aapl, aapl, httptcohgfcjya0e9]</td>\n",
       "    </tr>\n",
       "    <tr>\n",
       "      <th>3</th>\n",
       "      <td>My cat only chews @apple cords. Such an #AppleSnob.</td>\n",
       "      <td>My cat only chews apple cords Such an AppleSnob</td>\n",
       "      <td>[my, cat, only, chews, apple, cords, such, an, applesnob]</td>\n",
       "    </tr>\n",
       "    <tr>\n",
       "      <th>4</th>\n",
       "      <td>I agree with @jimcramer that the #IndividualInvestor should own not trade #Apple #AAPL, it's ext...</td>\n",
       "      <td>I agree with jimcramer that the IndividualInvestor should own not trade Apple AAPL its extended ...</td>\n",
       "      <td>[i, agree, with, jimcramer, that, the, individualinvestor, should, own, not, trade, apple, aapl,...</td>\n",
       "    </tr>\n",
       "  </tbody>\n",
       "</table>\n",
       "</div>"
      ],
      "text/plain": [
       "                                                                                                  text  \\\n",
       "0                                                                                                 text   \n",
       "1                                    #AAPL:The 10 best Steve Jobs emails ever...http://t.co/82G1kL94tx   \n",
       "2      RT @JPDesloges: Why AAPL Stock Had a Mini-Flash Crash Today $AAPL #aapl\\nhttp://t.co/hGFcjYa0E9   \n",
       "3                                                  My cat only chews @apple cords. Such an #AppleSnob.   \n",
       "4  I agree with @jimcramer that the #IndividualInvestor should own not trade #Apple #AAPL, it's ext...   \n",
       "\n",
       "                                                                                            text_clean  \\\n",
       "0                                                                                                 text   \n",
       "1                                              AAPLThe 10 best Steve Jobs emails everhttptco82G1kL94tx   \n",
       "2                RT JPDesloges Why AAPL Stock Had a MiniFlash Crash Today AAPL aapl\\nhttptcohGFcjYa0E9   \n",
       "3                                                      My cat only chews apple cords Such an AppleSnob   \n",
       "4  I agree with jimcramer that the IndividualInvestor should own not trade Apple AAPL its extended ...   \n",
       "\n",
       "                                                                                        text_tokenized  \n",
       "0                                                                                               [text]  \n",
       "1                                      [aaplthe, 10, best, steve, jobs, emails, everhttptco82g1kl94tx]  \n",
       "2   [rt, jpdesloges, why, aapl, stock, had, a, miniflash, crash, today, aapl, aapl, httptcohgfcjya0e9]  \n",
       "3                                            [my, cat, only, chews, apple, cords, such, an, applesnob]  \n",
       "4  [i, agree, with, jimcramer, that, the, individualinvestor, should, own, not, trade, apple, aapl,...  "
      ]
     },
     "execution_count": 52,
     "metadata": {},
     "output_type": "execute_result"
    }
   ],
   "source": [
    "import re\n",
    "\n",
    "def tokenize(text):\n",
    "    tokens = re.split('\\W+', text)\n",
    "    return tokens\n",
    "\n",
    "x_mod['text_tokenized'] = x_mod['text_clean'].apply(lambda x: tokenize(x.lower()))\n",
    "\n",
    "x_mod.head()"
   ]
  },
  {
   "cell_type": "markdown",
   "metadata": {},
   "source": [
    "### Removing Stopwords"
   ]
  },
  {
   "cell_type": "code",
   "execution_count": 53,
   "metadata": {},
   "outputs": [],
   "source": [
    "import nltk\n",
    "\n",
    "stopword = nltk.corpus.stopwords.words('english')"
   ]
  },
  {
   "cell_type": "code",
   "execution_count": 54,
   "metadata": {},
   "outputs": [
    {
     "data": {
      "text/html": [
       "<div>\n",
       "<style scoped>\n",
       "    .dataframe tbody tr th:only-of-type {\n",
       "        vertical-align: middle;\n",
       "    }\n",
       "\n",
       "    .dataframe tbody tr th {\n",
       "        vertical-align: top;\n",
       "    }\n",
       "\n",
       "    .dataframe thead th {\n",
       "        text-align: right;\n",
       "    }\n",
       "</style>\n",
       "<table border=\"1\" class=\"dataframe\">\n",
       "  <thead>\n",
       "    <tr style=\"text-align: right;\">\n",
       "      <th></th>\n",
       "      <th>text</th>\n",
       "      <th>text_clean</th>\n",
       "      <th>text_tokenized</th>\n",
       "      <th>text_nostop</th>\n",
       "    </tr>\n",
       "  </thead>\n",
       "  <tbody>\n",
       "    <tr>\n",
       "      <th>0</th>\n",
       "      <td>text</td>\n",
       "      <td>text</td>\n",
       "      <td>[text]</td>\n",
       "      <td>[text]</td>\n",
       "    </tr>\n",
       "    <tr>\n",
       "      <th>1</th>\n",
       "      <td>#AAPL:The 10 best Steve Jobs emails ever...http://t.co/82G1kL94tx</td>\n",
       "      <td>AAPLThe 10 best Steve Jobs emails everhttptco82G1kL94tx</td>\n",
       "      <td>[aaplthe, 10, best, steve, jobs, emails, everhttptco82g1kl94tx]</td>\n",
       "      <td>[aaplthe, 10, best, steve, jobs, emails, everhttptco82g1kl94tx]</td>\n",
       "    </tr>\n",
       "    <tr>\n",
       "      <th>2</th>\n",
       "      <td>RT @JPDesloges: Why AAPL Stock Had a Mini-Flash Crash Today $AAPL #aapl\\nhttp://t.co/hGFcjYa0E9</td>\n",
       "      <td>RT JPDesloges Why AAPL Stock Had a MiniFlash Crash Today AAPL aapl\\nhttptcohGFcjYa0E9</td>\n",
       "      <td>[rt, jpdesloges, why, aapl, stock, had, a, miniflash, crash, today, aapl, aapl, httptcohgfcjya0e9]</td>\n",
       "      <td>[rt, jpdesloges, aapl, stock, miniflash, crash, today, aapl, aapl, httptcohgfcjya0e9]</td>\n",
       "    </tr>\n",
       "    <tr>\n",
       "      <th>3</th>\n",
       "      <td>My cat only chews @apple cords. Such an #AppleSnob.</td>\n",
       "      <td>My cat only chews apple cords Such an AppleSnob</td>\n",
       "      <td>[my, cat, only, chews, apple, cords, such, an, applesnob]</td>\n",
       "      <td>[cat, chews, apple, cords, applesnob]</td>\n",
       "    </tr>\n",
       "    <tr>\n",
       "      <th>4</th>\n",
       "      <td>I agree with @jimcramer that the #IndividualInvestor should own not trade #Apple #AAPL, it's ext...</td>\n",
       "      <td>I agree with jimcramer that the IndividualInvestor should own not trade Apple AAPL its extended ...</td>\n",
       "      <td>[i, agree, with, jimcramer, that, the, individualinvestor, should, own, not, trade, apple, aapl,...</td>\n",
       "      <td>[agree, jimcramer, individualinvestor, trade, apple, aapl, extended, todays, pullback, good, see]</td>\n",
       "    </tr>\n",
       "  </tbody>\n",
       "</table>\n",
       "</div>"
      ],
      "text/plain": [
       "                                                                                                  text  \\\n",
       "0                                                                                                 text   \n",
       "1                                    #AAPL:The 10 best Steve Jobs emails ever...http://t.co/82G1kL94tx   \n",
       "2      RT @JPDesloges: Why AAPL Stock Had a Mini-Flash Crash Today $AAPL #aapl\\nhttp://t.co/hGFcjYa0E9   \n",
       "3                                                  My cat only chews @apple cords. Such an #AppleSnob.   \n",
       "4  I agree with @jimcramer that the #IndividualInvestor should own not trade #Apple #AAPL, it's ext...   \n",
       "\n",
       "                                                                                            text_clean  \\\n",
       "0                                                                                                 text   \n",
       "1                                              AAPLThe 10 best Steve Jobs emails everhttptco82G1kL94tx   \n",
       "2                RT JPDesloges Why AAPL Stock Had a MiniFlash Crash Today AAPL aapl\\nhttptcohGFcjYa0E9   \n",
       "3                                                      My cat only chews apple cords Such an AppleSnob   \n",
       "4  I agree with jimcramer that the IndividualInvestor should own not trade Apple AAPL its extended ...   \n",
       "\n",
       "                                                                                        text_tokenized  \\\n",
       "0                                                                                               [text]   \n",
       "1                                      [aaplthe, 10, best, steve, jobs, emails, everhttptco82g1kl94tx]   \n",
       "2   [rt, jpdesloges, why, aapl, stock, had, a, miniflash, crash, today, aapl, aapl, httptcohgfcjya0e9]   \n",
       "3                                            [my, cat, only, chews, apple, cords, such, an, applesnob]   \n",
       "4  [i, agree, with, jimcramer, that, the, individualinvestor, should, own, not, trade, apple, aapl,...   \n",
       "\n",
       "                                                                                         text_nostop  \n",
       "0                                                                                             [text]  \n",
       "1                                    [aaplthe, 10, best, steve, jobs, emails, everhttptco82g1kl94tx]  \n",
       "2              [rt, jpdesloges, aapl, stock, miniflash, crash, today, aapl, aapl, httptcohgfcjya0e9]  \n",
       "3                                                              [cat, chews, apple, cords, applesnob]  \n",
       "4  [agree, jimcramer, individualinvestor, trade, apple, aapl, extended, todays, pullback, good, see]  "
      ]
     },
     "execution_count": 54,
     "metadata": {},
     "output_type": "execute_result"
    }
   ],
   "source": [
    "def remove_stopwords(tokenized_list):\n",
    "    text = [word for word in tokenized_list if word not in stopword]\n",
    "    return text\n",
    "\n",
    "x_mod['text_nostop'] = x_mod['text_tokenized'].apply(lambda x: remove_stopwords(x))\n",
    "\n",
    "x_mod.head()"
   ]
  },
  {
   "cell_type": "code",
   "execution_count": null,
   "metadata": {},
   "outputs": [],
   "source": []
  },
  {
   "cell_type": "code",
   "execution_count": null,
   "metadata": {},
   "outputs": [],
   "source": []
  },
  {
   "cell_type": "code",
   "execution_count": null,
   "metadata": {},
   "outputs": [],
   "source": []
  },
  {
   "cell_type": "code",
   "execution_count": null,
   "metadata": {},
   "outputs": [],
   "source": []
  }
 ],
 "metadata": {
  "kernelspec": {
   "display_name": "Python 3",
   "language": "python",
   "name": "python3"
  },
  "language_info": {
   "codemirror_mode": {
    "name": "ipython",
    "version": 3
   },
   "file_extension": ".py",
   "mimetype": "text/x-python",
   "name": "python",
   "nbconvert_exporter": "python",
   "pygments_lexer": "ipython3",
   "version": "3.7.6"
  }
 },
 "nbformat": 4,
 "nbformat_minor": 4
}
